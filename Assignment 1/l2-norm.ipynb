{
 "cells": [
  {
   "cell_type": "code",
   "execution_count": 3,
   "id": "574ff814",
   "metadata": {},
   "outputs": [],
   "source": [
    "def l2_norm(vec):\n",
    "    if len(vec) == 0:\n",
    "        print(\"Can't pass in empty vector!\")\n",
    "        return -1\n",
    "    \n",
    "    cum_sum = 0\n",
    "    for elem in vec:\n",
    "        cum_sum += elem*elem\n",
    "    \n",
    "    cum_sum = cum_sum ** 0.5\n",
    "    return cum_sum"
   ]
  },
  {
   "cell_type": "code",
   "execution_count": 5,
   "id": "33d96911",
   "metadata": {},
   "outputs": [
    {
     "name": "stdout",
     "output_type": "stream",
     "text": [
      "1.0\n"
     ]
    }
   ],
   "source": [
    "import math\n",
    "print(l2_norm((math.cos(math.pi/4)*math.sin(math.pi/8), math.sin(math.pi/4)*math.sin(math.pi/8), math.cos(math.pi/8))))"
   ]
  },
  {
   "cell_type": "code",
   "execution_count": null,
   "id": "bd550d33",
   "metadata": {},
   "outputs": [],
   "source": []
  }
 ],
 "metadata": {
  "kernelspec": {
   "display_name": "Python 3 (ipykernel)",
   "language": "python",
   "name": "python3"
  },
  "language_info": {
   "codemirror_mode": {
    "name": "ipython",
    "version": 3
   },
   "file_extension": ".py",
   "mimetype": "text/x-python",
   "name": "python",
   "nbconvert_exporter": "python",
   "pygments_lexer": "ipython3",
   "version": "3.11.5"
  }
 },
 "nbformat": 4,
 "nbformat_minor": 5
}
