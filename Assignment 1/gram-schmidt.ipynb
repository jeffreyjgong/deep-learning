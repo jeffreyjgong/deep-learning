{
 "cells": [
  {
   "cell_type": "code",
   "execution_count": 1,
   "id": "856af99a",
   "metadata": {},
   "outputs": [],
   "source": [
    "import numpy as np\n",
    "\n",
    "def gram_schmidt(vector_basis):\n",
    "    \"\"\"\n",
    "    Constructs an orthonormal basis from a set of input vectors, which \n",
    "    spans the same K-dimensional subspace of R^n\n",
    "    \n",
    "    Args\n",
    "        - vector_basis: list of K vectors (numpy ndarrays)\n",
    "    \n",
    "    Assumptions\n",
    "        - This function assumes that the input is a set of K linearly-independent \n",
    "            N-dimensional vectors in R^n\n",
    "        - K <= N\n",
    "    \n",
    "    Output\n",
    "        - List[Tuple]: list of K vectors s.t. it forms an orthonormal basis\n",
    "    \"\"\"\n",
    "    \n",
    "    orthonormal_basis = []\n",
    "    \n",
    "    for v in vector_basis:\n",
    "        w = v.copy()\n",
    "        \n",
    "        for u in orthonormal_basis:\n",
    "            w -= np.dot(u, v)*u\n",
    "        \n",
    "        w /= np.linalg.norm(w)\n",
    "        \n",
    "        orthonormal_basis.append(w)\n",
    "    \n",
    "    return orthonormal_basis\n",
    "    "
   ]
  },
  {
   "cell_type": "code",
   "execution_count": 3,
   "id": "ec707c8d",
   "metadata": {},
   "outputs": [
    {
     "name": "stdout",
     "output_type": "stream",
     "text": [
      "[array([0.33333333, 0.66666667, 0.66666667]), array([-0.66666667, -0.33333333,  0.66666667]), array([ 0.66666667, -0.66666667,  0.33333333])]\n"
     ]
    }
   ],
   "source": [
    "v1 = np.array([1,2,2], dtype=np.float64)\n",
    "v2 = np.array([-1,0,2], dtype=np.float64)\n",
    "v3 = np.array([0,0,1], dtype=np.float64)\n",
    "\n",
    "print(gram_schmidt([v1, v2, v3]))"
   ]
  },
  {
   "cell_type": "code",
   "execution_count": null,
   "id": "ed8ddfc6",
   "metadata": {},
   "outputs": [],
   "source": []
  }
 ],
 "metadata": {
  "kernelspec": {
   "display_name": "Python 3 (ipykernel)",
   "language": "python",
   "name": "python3"
  },
  "language_info": {
   "codemirror_mode": {
    "name": "ipython",
    "version": 3
   },
   "file_extension": ".py",
   "mimetype": "text/x-python",
   "name": "python",
   "nbconvert_exporter": "python",
   "pygments_lexer": "ipython3",
   "version": "3.11.5"
  }
 },
 "nbformat": 4,
 "nbformat_minor": 5
}
