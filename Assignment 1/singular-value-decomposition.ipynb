{
 "cells": [
  {
   "cell_type": "code",
   "execution_count": 1,
   "id": "ee4439dc",
   "metadata": {},
   "outputs": [],
   "source": [
    "import numpy as np"
   ]
  },
  {
   "cell_type": "code",
   "execution_count": 4,
   "id": "7876888a",
   "metadata": {},
   "outputs": [],
   "source": [
    "def compute_svd(A):\n",
    "    # Step 1: Compute eigenvalues and eigenvectors for V (using A.T @ A)\n",
    "    e_vals_v, e_vecs_v = np.linalg.eigh(A.T @ A)\n",
    "    # Step 2: Sort the eigenvalues and eigenvectors in descending order for V\n",
    "    idx_v = e_vals_v.argsort()[::-1]\n",
    "    e_vals_v = e_vals_v[idx_v]\n",
    "    e_vecs_v = e_vecs_v[:, idx_v]\n",
    "    \n",
    "    # Step 1: Compute eigenvalues and eigenvectors for U (using A @ A.T)\n",
    "    e_vals_u, e_vecs_u = np.linalg.eigh(A @ A.T)\n",
    "    # Step 2: Sort the eigenvalues and eigenvectors in descending order for U\n",
    "    idx_u = e_vals_u.argsort()[::-1]\n",
    "    e_vals_u = e_vals_u[idx_u]\n",
    "    e_vecs_u = e_vecs_u[:, idx_u]\n",
    "\n",
    "    # Step 3: Compute the singular values as the square roots of the eigenvalues\n",
    "    singular_values = np.sqrt(e_vals_v[e_vals_v > 1e-10])\n",
    "\n",
    "    # Step 4: Construct the Sigma matrix with singular values on the diagonal\n",
    "    Sigma = np.zeros(A.shape)\n",
    "    np.fill_diagonal(Sigma, singular_values)\n",
    "\n",
    "    # U and V matrices\n",
    "    U = e_vecs_u[:, :len(singular_values)]\n",
    "    V = e_vecs_v\n",
    "\n",
    "    return U, Sigma, V.T  # Return V.T to follow the convention A = UΣV^T"
   ]
  },
  {
   "cell_type": "code",
   "execution_count": 5,
   "id": "192b5a91",
   "metadata": {},
   "outputs": [
    {
     "name": "stdout",
     "output_type": "stream",
     "text": [
      "(array([[0., 1., 0.],\n",
      "       [1., 0., 0.],\n",
      "       [0., 0., 0.],\n",
      "       [0., 0., 1.]]), array([[3.        , 0.        , 0.        , 0.        , 0.        ],\n",
      "       [0.        , 2.23606798, 0.        , 0.        , 0.        ],\n",
      "       [0.        , 0.        , 2.        , 0.        , 0.        ],\n",
      "       [0.        , 0.        , 0.        , 3.        , 0.        ]]), array([[ 0.        ,  0.        ,  1.        ,  0.        ,  0.        ],\n",
      "       [-0.4472136 ,  0.        ,  0.        ,  0.        , -0.89442719],\n",
      "       [ 0.        , -1.        ,  0.        ,  0.        ,  0.        ],\n",
      "       [ 0.        ,  0.        ,  0.        ,  1.        ,  0.        ],\n",
      "       [-0.89442719,  0.        ,  0.        ,  0.        ,  0.4472136 ]]))\n"
     ]
    }
   ],
   "source": [
    "M = np.array([[1,0,0,0,2], [0,0,3,0,0], [0,0,0,0,0], [0,2,0,0,0]])\n",
    "print(compute_svd(M))"
   ]
  },
  {
   "cell_type": "code",
   "execution_count": null,
   "id": "099d9c0d",
   "metadata": {},
   "outputs": [],
   "source": []
  }
 ],
 "metadata": {
  "kernelspec": {
   "display_name": "Python 3 (ipykernel)",
   "language": "python",
   "name": "python3"
  },
  "language_info": {
   "codemirror_mode": {
    "name": "ipython",
    "version": 3
   },
   "file_extension": ".py",
   "mimetype": "text/x-python",
   "name": "python",
   "nbconvert_exporter": "python",
   "pygments_lexer": "ipython3",
   "version": "3.11.5"
  }
 },
 "nbformat": 4,
 "nbformat_minor": 5
}
