{
 "cells": [
  {
   "cell_type": "code",
   "execution_count": 1,
   "id": "ee4439dc",
   "metadata": {},
   "outputs": [],
   "source": [
    "import numpy as np"
   ]
  },
  {
   "cell_type": "code",
   "execution_count": null,
   "id": "7876888a",
   "metadata": {},
   "outputs": [],
   "source": [
    "def svd(matrix):\n",
    "    \"\"\"\n",
    "    Calculates the singular value decomposition of the given matrix\n",
    "    \n",
    "    Args\n",
    "        - np.ndarray of size m x n\n",
    "        \n",
    "    \n",
    "    \"\"\""
   ]
  }
 ],
 "metadata": {
  "kernelspec": {
   "display_name": "Python 3 (ipykernel)",
   "language": "python",
   "name": "python3"
  },
  "language_info": {
   "codemirror_mode": {
    "name": "ipython",
    "version": 3
   },
   "file_extension": ".py",
   "mimetype": "text/x-python",
   "name": "python",
   "nbconvert_exporter": "python",
   "pygments_lexer": "ipython3",
   "version": "3.11.5"
  }
 },
 "nbformat": 4,
 "nbformat_minor": 5
}
