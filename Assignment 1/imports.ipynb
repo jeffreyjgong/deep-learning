{
 "cells": [
  {
   "cell_type": "code",
   "execution_count": 1,
   "id": "e6968c00",
   "metadata": {
    "collapsed": true
   },
   "outputs": [
    {
     "name": "stdout",
     "output_type": "stream",
     "text": [
      "Requirement already satisfied: jax in /Users/jeffreygong/anaconda3/lib/python3.11/site-packages (0.4.23)\n",
      "Requirement already satisfied: ml-dtypes>=0.2.0 in /Users/jeffreygong/anaconda3/lib/python3.11/site-packages (from jax) (0.3.2)\n",
      "Requirement already satisfied: numpy>=1.22 in /Users/jeffreygong/anaconda3/lib/python3.11/site-packages (from jax) (1.24.3)\n",
      "Requirement already satisfied: opt-einsum in /Users/jeffreygong/anaconda3/lib/python3.11/site-packages (from jax) (3.3.0)\n",
      "Requirement already satisfied: scipy>=1.9 in /Users/jeffreygong/anaconda3/lib/python3.11/site-packages (from jax) (1.11.1)\n",
      "Note: you may need to restart the kernel to use updated packages.\n",
      "Requirement already satisfied: jaxlib in /Users/jeffreygong/anaconda3/lib/python3.11/site-packages (0.4.23)\n",
      "Requirement already satisfied: scipy>=1.9 in /Users/jeffreygong/anaconda3/lib/python3.11/site-packages (from jaxlib) (1.11.1)\n",
      "Requirement already satisfied: numpy>=1.22 in /Users/jeffreygong/anaconda3/lib/python3.11/site-packages (from jaxlib) (1.24.3)\n",
      "Requirement already satisfied: ml-dtypes>=0.2.0 in /Users/jeffreygong/anaconda3/lib/python3.11/site-packages (from jaxlib) (0.3.2)\n",
      "Note: you may need to restart the kernel to use updated packages.\n"
     ]
    }
   ],
   "source": [
    "%pip install jax\n",
    "%pip install jaxlib"
   ]
  },
  {
   "cell_type": "code",
   "execution_count": 2,
   "id": "af612649",
   "metadata": {},
   "outputs": [],
   "source": [
    "import matplotlib\n",
    "import numpy\n",
    "import sklearn\n",
    "import scipy\n",
    "import jax"
   ]
  },
  {
   "cell_type": "code",
   "execution_count": null,
   "id": "3d9ff091",
   "metadata": {},
   "outputs": [],
   "source": []
  }
 ],
 "metadata": {
  "kernelspec": {
   "display_name": "Python 3 (ipykernel)",
   "language": "python",
   "name": "python3"
  },
  "language_info": {
   "codemirror_mode": {
    "name": "ipython",
    "version": 3
   },
   "file_extension": ".py",
   "mimetype": "text/x-python",
   "name": "python",
   "nbconvert_exporter": "python",
   "pygments_lexer": "ipython3",
   "version": "3.11.5"
  }
 },
 "nbformat": 4,
 "nbformat_minor": 5
}
