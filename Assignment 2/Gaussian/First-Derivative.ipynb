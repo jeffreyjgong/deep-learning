{
 "cells": [
  {
   "cell_type": "code",
   "execution_count": 9,
   "id": "d7e8ee93",
   "metadata": {},
   "outputs": [
    {
     "name": "stdout",
     "output_type": "stream",
     "text": [
      "Runtime: 0.011726166994776577 seconds\n"
     ]
    }
   ],
   "source": [
    "import jax.numpy as jnp\n",
    "from jax import grad, vmap\n",
    "from timeit import default_timer as timer\n",
    "\n",
    "sigma = 1.0\n",
    "mu = 0.0\n",
    "\n",
    "# Define the Gaussian function\n",
    "def gaussian_function(x, sigma=1.0, mu=0.0):\n",
    "    prefactor = 1 / (sigma * jnp.sqrt(2 * jnp.pi))\n",
    "    exponent = -0.5 * ((x - mu) ** 2) / (sigma ** 2)\n",
    "    return prefactor * jnp.exp(exponent)\n",
    "\n",
    "# Compute the 1st-order derivative using jax.grad\n",
    "dgaussian_dx = grad(gaussian_function)\n",
    "\n",
    "# Vectorize the derivative function to operate on arrays\n",
    "v_dgaussian_dx = vmap(dgaussian_dx)\n",
    "\n",
    "# Generate 10,000 uniform points in [-5, 5]\n",
    "x_values = jnp.linspace(-5, 5, 10000)\n",
    "\n",
    "# Measure the runtime of computing the derivative for these points\n",
    "start = timer()\n",
    "dgaussian_dx_values = v_dgaussian_dx(x_values)\n",
    "end = timer()\n",
    "runtime = end - start\n",
    "print(f\"Runtime: {runtime} seconds\")\n",
    "\n",
    "# Compute the exact derivative values for validation\n",
    "exact_dgaussian_dx_values = -(x_values / sigma**2) * gaussian_function(x_values, sigma, mu)\n",
    "\n",
    "# Validate the computation by comparing with the exact formula\n",
    "assert jnp.allclose(dgaussian_dx_values, exact_dgaussian_dx_values, atol=1e-5), \"The computed derivatives do not match the exact formula\"\n"
   ]
  },
  {
   "cell_type": "code",
   "execution_count": null,
   "id": "329f7bf4",
   "metadata": {},
   "outputs": [],
   "source": []
  },
  {
   "cell_type": "code",
   "execution_count": null,
   "id": "fd4c3def",
   "metadata": {},
   "outputs": [],
   "source": []
  }
 ],
 "metadata": {
  "kernelspec": {
   "display_name": "Python 3 (ipykernel)",
   "language": "python",
   "name": "python3"
  },
  "language_info": {
   "codemirror_mode": {
    "name": "ipython",
    "version": 3
   },
   "file_extension": ".py",
   "mimetype": "text/x-python",
   "name": "python",
   "nbconvert_exporter": "python",
   "pygments_lexer": "ipython3",
   "version": "3.11.5"
  }
 },
 "nbformat": 4,
 "nbformat_minor": 5
}
