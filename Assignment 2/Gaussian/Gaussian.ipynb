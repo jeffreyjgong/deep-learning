{
 "cells": [
  {
   "cell_type": "code",
   "execution_count": 3,
   "id": "3552b4e7",
   "metadata": {},
   "outputs": [],
   "source": [
    "import jax.numpy as jnp\n",
    "from jax import jit\n",
    "from timeit import default_timer as timer"
   ]
  },
  {
   "cell_type": "code",
   "execution_count": 6,
   "id": "2e2ab951",
   "metadata": {},
   "outputs": [
    {
     "name": "stdout",
     "output_type": "stream",
     "text": [
      "Runtime: 0.024943500000517815 seconds\n"
     ]
    }
   ],
   "source": [
    "@jit\n",
    "def gaussian_function(x):\n",
    "    sigma = 1.0  # Standard deviation\n",
    "    mu = 0.0  # Mean\n",
    "    prefactor = 1 / (sigma * jnp.sqrt(2 * jnp.pi))\n",
    "    exponent = -0.5 * ((x - mu) ** 2) / (sigma ** 2)\n",
    "    return prefactor * jnp.exp(exponent)\n",
    "\n",
    "# Generate 10,000 uniform points in [-5, 5] and reshape to (N, 1)\n",
    "x_values = jnp.linspace(-5, 5, 10000).reshape(-1, 1)\n",
    "\n",
    "# Start the timer\n",
    "start = timer()\n",
    "\n",
    "# Compute the Gaussian function values for the generated points\n",
    "f_x = gaussian_function(x_values)\n",
    "\n",
    "# Stop the timer\n",
    "end = timer()\n",
    "\n",
    "# Calculate and print the runtime\n",
    "runtime = end - start\n",
    "print(f\"Runtime: {runtime} seconds\")"
   ]
  },
  {
   "cell_type": "code",
   "execution_count": null,
   "id": "284e2814",
   "metadata": {},
   "outputs": [],
   "source": []
  },
  {
   "cell_type": "code",
   "execution_count": null,
   "id": "bcd17b04",
   "metadata": {},
   "outputs": [],
   "source": []
  }
 ],
 "metadata": {
  "kernelspec": {
   "display_name": "Python 3 (ipykernel)",
   "language": "python",
   "name": "python3"
  },
  "language_info": {
   "codemirror_mode": {
    "name": "ipython",
    "version": 3
   },
   "file_extension": ".py",
   "mimetype": "text/x-python",
   "name": "python",
   "nbconvert_exporter": "python",
   "pygments_lexer": "ipython3",
   "version": "3.11.5"
  }
 },
 "nbformat": 4,
 "nbformat_minor": 5
}
