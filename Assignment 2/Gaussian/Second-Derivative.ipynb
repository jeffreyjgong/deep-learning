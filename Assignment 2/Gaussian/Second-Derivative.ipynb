{
 "cells": [
  {
   "cell_type": "code",
   "execution_count": 4,
   "id": "20e8b377",
   "metadata": {},
   "outputs": [
    {
     "name": "stdout",
     "output_type": "stream",
     "text": [
      "Runtime: 0.019399541022721678 seconds\n"
     ]
    }
   ],
   "source": [
    "import jax.numpy as jnp\n",
    "from jax import grad, vmap\n",
    "from timeit import default_timer as timer\n",
    "\n",
    "# Define the Gaussian function\n",
    "def gaussian_function(x, sigma=1.0, mu=0.0):\n",
    "    prefactor = 1 / (sigma * jnp.sqrt(2 * jnp.pi))\n",
    "    exponent = -0.5 * ((x - mu) ** 2) / (sigma ** 2)\n",
    "    return prefactor * jnp.exp(exponent)\n",
    "\n",
    "# Compute the 1st-order derivative\n",
    "dgaussian_dx = grad(gaussian_function)\n",
    "\n",
    "# Compute the 2nd-order derivative by taking the gradient of the 1st-order derivative\n",
    "d2gaussian_dx2 = grad(dgaussian_dx)\n",
    "\n",
    "# Vectorize the 2nd-order derivative function to operate on arrays\n",
    "v_d2gaussian_dx2 = vmap(d2gaussian_dx2)\n",
    "\n",
    "# Generate 10,000 uniform points in [-5, 5]\n",
    "x_values = jnp.linspace(-5, 5, 10000)\n",
    "\n",
    "# Measure the runtime of computing the 2nd-order derivative for these points\n",
    "start = timer()\n",
    "d2gaussian_dx2_values = v_d2gaussian_dx2(x_values)\n",
    "end = timer()\n",
    "runtime = end - start\n",
    "print(f\"Runtime: {runtime} seconds\")\n",
    "\n",
    "# Compute the exact 2nd-order derivative values for validation\n",
    "sigma = 1.0  # Standard deviation\n",
    "mu = 0.0  # Mean\n",
    "exact_d2gaussian_dx2_values = (((x_values - mu) ** 2 - sigma**2) / sigma**4) * gaussian_function(x_values, sigma, mu)\n",
    "\n",
    "# Validate the computation by comparing with the exact formula\n",
    "assert jnp.allclose(d2gaussian_dx2_values, exact_d2gaussian_dx2_values, atol=1e-5), \"The computed 2nd-order derivatives do not match the exact formula\"\n"
   ]
  },
  {
   "cell_type": "code",
   "execution_count": null,
   "id": "ca941218",
   "metadata": {},
   "outputs": [],
   "source": []
  }
 ],
 "metadata": {
  "kernelspec": {
   "display_name": "Python 3 (ipykernel)",
   "language": "python",
   "name": "python3"
  },
  "language_info": {
   "codemirror_mode": {
    "name": "ipython",
    "version": 3
   },
   "file_extension": ".py",
   "mimetype": "text/x-python",
   "name": "python",
   "nbconvert_exporter": "python",
   "pygments_lexer": "ipython3",
   "version": "3.11.5"
  }
 },
 "nbformat": 4,
 "nbformat_minor": 5
}
